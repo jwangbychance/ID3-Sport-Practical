{
 "cells": [
  {
   "cell_type": "code",
   "execution_count": 1,
   "metadata": {},
   "outputs": [],
   "source": [
    "#Import the libraries\n",
    "import numpy as np\n",
    "import pandas as pd"
   ]
  },
  {
   "cell_type": "code",
   "execution_count": 2,
   "metadata": {},
   "outputs": [],
   "source": [
    "#Place dataset in DataFrame\n",
    "_raw_data = \"\"\"Outlook,Temperature,Humidity,Wind,Play\n",
    "Sunny,Hot,High,Weak,No\n",
    "Sunny,Hot,High,Strong,No\n",
    "Overcast,Hot,High,Weak,Yes\n",
    "Rain,Mild,High,Weak,Yes\n",
    "Rain,Cool,Normal,Weak,Yes\n",
    "Overcast,Cool,Normal,Strong,Yes\n",
    "Sunny,Cool,Normal,Strong,Yes\n",
    "Sunny,Mild,High,Weak,No\n",
    "Rain,Cool,Normal,Weak,Yes\n",
    "Sunny,Mild,Normal,Weak,Yes\n",
    "Overcast,Mild,Normal,Strong,Yes\n",
    "Overcast,Hot,Normal,Strong,Yes\n",
    "\"\"\"\n",
    "\n",
    "with open('sport_data.csv', 'w') as f:\n",
    "    f.write(_raw_data)\n",
    "df = pd.read_csv('sport_data.csv')"
   ]
  },
  {
   "cell_type": "code",
   "execution_count": 3,
   "metadata": {},
   "outputs": [
    {
     "data": {
      "text/html": [
       "<div>\n",
       "<style scoped>\n",
       "    .dataframe tbody tr th:only-of-type {\n",
       "        vertical-align: middle;\n",
       "    }\n",
       "\n",
       "    .dataframe tbody tr th {\n",
       "        vertical-align: top;\n",
       "    }\n",
       "\n",
       "    .dataframe thead th {\n",
       "        text-align: right;\n",
       "    }\n",
       "</style>\n",
       "<table border=\"1\" class=\"dataframe\">\n",
       "  <thead>\n",
       "    <tr style=\"text-align: right;\">\n",
       "      <th></th>\n",
       "      <th>Outlook</th>\n",
       "      <th>Temperature</th>\n",
       "      <th>Humidity</th>\n",
       "      <th>Wind</th>\n",
       "      <th>Play</th>\n",
       "    </tr>\n",
       "  </thead>\n",
       "  <tbody>\n",
       "    <tr>\n",
       "      <th>0</th>\n",
       "      <td>Sunny</td>\n",
       "      <td>Hot</td>\n",
       "      <td>High</td>\n",
       "      <td>Weak</td>\n",
       "      <td>No</td>\n",
       "    </tr>\n",
       "    <tr>\n",
       "      <th>1</th>\n",
       "      <td>Sunny</td>\n",
       "      <td>Hot</td>\n",
       "      <td>High</td>\n",
       "      <td>Strong</td>\n",
       "      <td>No</td>\n",
       "    </tr>\n",
       "    <tr>\n",
       "      <th>2</th>\n",
       "      <td>Overcast</td>\n",
       "      <td>Hot</td>\n",
       "      <td>High</td>\n",
       "      <td>Weak</td>\n",
       "      <td>Yes</td>\n",
       "    </tr>\n",
       "    <tr>\n",
       "      <th>3</th>\n",
       "      <td>Rain</td>\n",
       "      <td>Mild</td>\n",
       "      <td>High</td>\n",
       "      <td>Weak</td>\n",
       "      <td>Yes</td>\n",
       "    </tr>\n",
       "    <tr>\n",
       "      <th>4</th>\n",
       "      <td>Rain</td>\n",
       "      <td>Cool</td>\n",
       "      <td>Normal</td>\n",
       "      <td>Weak</td>\n",
       "      <td>Yes</td>\n",
       "    </tr>\n",
       "    <tr>\n",
       "      <th>5</th>\n",
       "      <td>Overcast</td>\n",
       "      <td>Cool</td>\n",
       "      <td>Normal</td>\n",
       "      <td>Strong</td>\n",
       "      <td>Yes</td>\n",
       "    </tr>\n",
       "    <tr>\n",
       "      <th>6</th>\n",
       "      <td>Sunny</td>\n",
       "      <td>Cool</td>\n",
       "      <td>Normal</td>\n",
       "      <td>Strong</td>\n",
       "      <td>Yes</td>\n",
       "    </tr>\n",
       "    <tr>\n",
       "      <th>7</th>\n",
       "      <td>Sunny</td>\n",
       "      <td>Mild</td>\n",
       "      <td>High</td>\n",
       "      <td>Weak</td>\n",
       "      <td>No</td>\n",
       "    </tr>\n",
       "    <tr>\n",
       "      <th>8</th>\n",
       "      <td>Rain</td>\n",
       "      <td>Cool</td>\n",
       "      <td>Normal</td>\n",
       "      <td>Weak</td>\n",
       "      <td>Yes</td>\n",
       "    </tr>\n",
       "    <tr>\n",
       "      <th>9</th>\n",
       "      <td>Sunny</td>\n",
       "      <td>Mild</td>\n",
       "      <td>Normal</td>\n",
       "      <td>Weak</td>\n",
       "      <td>Yes</td>\n",
       "    </tr>\n",
       "    <tr>\n",
       "      <th>10</th>\n",
       "      <td>Overcast</td>\n",
       "      <td>Mild</td>\n",
       "      <td>Normal</td>\n",
       "      <td>Strong</td>\n",
       "      <td>Yes</td>\n",
       "    </tr>\n",
       "    <tr>\n",
       "      <th>11</th>\n",
       "      <td>Overcast</td>\n",
       "      <td>Hot</td>\n",
       "      <td>Normal</td>\n",
       "      <td>Strong</td>\n",
       "      <td>Yes</td>\n",
       "    </tr>\n",
       "  </tbody>\n",
       "</table>\n",
       "</div>"
      ],
      "text/plain": [
       "     Outlook Temperature Humidity    Wind Play\n",
       "0      Sunny         Hot     High    Weak   No\n",
       "1      Sunny         Hot     High  Strong   No\n",
       "2   Overcast         Hot     High    Weak  Yes\n",
       "3       Rain        Mild     High    Weak  Yes\n",
       "4       Rain        Cool   Normal    Weak  Yes\n",
       "5   Overcast        Cool   Normal  Strong  Yes\n",
       "6      Sunny        Cool   Normal  Strong  Yes\n",
       "7      Sunny        Mild     High    Weak   No\n",
       "8       Rain        Cool   Normal    Weak  Yes\n",
       "9      Sunny        Mild   Normal    Weak  Yes\n",
       "10  Overcast        Mild   Normal  Strong  Yes\n",
       "11  Overcast         Hot   Normal  Strong  Yes"
      ]
     },
     "execution_count": 3,
     "metadata": {},
     "output_type": "execute_result"
    }
   ],
   "source": [
    "#Display the sports dataset as a DataFrame\n",
    "df"
   ]
  },
  {
   "cell_type": "code",
   "execution_count": 38,
   "metadata": {},
   "outputs": [],
   "source": [
    "#Compute the entropy\n",
    "def compute_entropy(y):\n",
    "    if len(y) < 2:\n",
    "        return 0\n",
    "    freq = np.array(y.value_counts(normalize=True))\n",
    "    return -(freq * np.log2(freq + 1e-6)).sum()\n",
    "\n",
    "#Compute the info gain\n",
    "def compute_info_gain(samples, attr, target):\n",
    "    values = samples[attr].value_counts(normalize=True)\n",
    "    split_ent = 0\n",
    "    for v, fr in values.iteritems():\n",
    "        sub_ent = compute_entropy(\n",
    "            samples[samples[attr]==v][target])\n",
    "        split_ent += fr * sub_ent\n",
    "\n",
    "    ent = compute_entropy(samples[target])\n",
    "    return ent - split_ent"
   ]
  },
  {
   "cell_type": "code",
   "execution_count": 39,
   "metadata": {},
   "outputs": [
    {
     "data": {
      "text/plain": [
       "{'Outlook': 1.5545808412594577,\n",
       " 'Temperature': 1.5849581726425257,\n",
       " 'Humidity': 0.9798658712640389,\n",
       " 'Wind': 0.9798658712640389}"
      ]
     },
     "execution_count": 39,
     "metadata": {},
     "output_type": "execute_result"
    }
   ],
   "source": [
    "#Entropy of each attribute\n",
    "attr_ent = {v:compute_entropy(df[v]) for v in df.keys()[:-1]}\n",
    "attr_ent"
   ]
  },
  {
   "cell_type": "code",
   "execution_count": 40,
   "metadata": {},
   "outputs": [
    {
     "data": {
      "text/plain": [
       "{'Outlook': 0.4067145351997543,\n",
       " 'Temperature': 0.2075182687424375,\n",
       " 'Humidity': 0.40671453519975437,\n",
       " 'Wind': 0.006987753258770657}"
      ]
     },
     "execution_count": 40,
     "metadata": {},
     "output_type": "execute_result"
    }
   ],
   "source": [
    "#Information gain of each attribute\n",
    "attr_ig = {v:compute_info_gain(df, v, 'Play') for v in df.keys()[:-1]}\n",
    "attr_ig"
   ]
  },
  {
   "cell_type": "code",
   "execution_count": 44,
   "metadata": {},
   "outputs": [],
   "source": [
    "#The main part of the algorithm, creating the tree node\n",
    "class TreeNode:\n",
    "    #Constructor of the tree node\n",
    "    def __init__(self, samples, target):\n",
    "        self.decision = None\n",
    "        self.samples = samples\n",
    "        self.target = target\n",
    "        self.split_attribute = None\n",
    "        self.children = None\n",
    "        \n",
    "    def pretty_print(self, prefix=''):\n",
    "        if self.split_attribute is not None:\n",
    "            for k, v in self.children.items():\n",
    "                v.pretty_print(f'{prefix}: When {self.split_attribute} is {k}')\n",
    "        else:\n",
    "            print(f'{prefix}: {self.decision}')\n",
    "    \n",
    "    def make(self):\n",
    "        target = self.target\n",
    "        samples = self.samples\n",
    "        #Empty population, therefore retain the decision of parent decision\n",
    "        if len(samples) == 0:\n",
    "            self.decision = self.parent.decision\n",
    "            return\n",
    "        #Checks if there is only 1 unique value\n",
    "        elif len(samples[target].unique()) == 1:\n",
    "            #Extract the item from the array\n",
    "            self.decision = samples[target].unique()[0]\n",
    "            return\n",
    "        else: #Otherwise, split the population of the dataset samples\n",
    "            ig_max = 0\n",
    "            for a in samples.keys(): #Loop over the attributes in the dataset\n",
    "                #Skip over the 'target' attribute as we want to predict this\n",
    "                if a == target:\n",
    "                    continue\n",
    "                aig = compute_info_gain(samples, a, target)\n",
    "                if aig > ig_max: #Get the attribute with the maximum info gain\n",
    "                    ig_max = aig\n",
    "                    #Split the dataset by the attribute with highest info gain\n",
    "                    self.split_attribute = a\n",
    "            self.children = {}\n",
    "            #Loop over the unique values of the attribute\n",
    "            for v in samples[self.split_attribute].unique():\n",
    "                index = samples[self.split_attribute] == v\n",
    "                #Recursive part of the function\n",
    "                #Create a children node with unique value\n",
    "                self.children[v] = TreeNode(samples[index], target)\n",
    "                self.children[v].make()\n",
    "\n",
    "#Template for building the decision tree\n",
    "class TreeID3:\n",
    "    #Constructor of the tree\n",
    "    def __init__(self):\n",
    "        self.root = None\n",
    "\n",
    "    #Apply the decision tree to the training dataset\n",
    "    #As well as to initialise the root node of the tree\n",
    "    def fit(self, samples, target):\n",
    "        self.root = TreeNode(samples, target)\n",
    "        self.root.make()"
   ]
  },
  {
   "cell_type": "code",
   "execution_count": 45,
   "metadata": {},
   "outputs": [
    {
     "name": "stdout",
     "output_type": "stream",
     "text": [
      ": When Humidity is High: When Outlook is Sunny: No\n",
      ": When Humidity is High: When Outlook is Overcast: Yes\n",
      ": When Humidity is High: When Outlook is Rain: Yes\n",
      ": When Humidity is Normal: Yes\n"
     ]
    }
   ],
   "source": [
    "t = TreeID3()\n",
    "t.fit(df, 'Play')\n",
    "t.root.pretty_print()"
   ]
  },
  {
   "cell_type": "code",
   "execution_count": null,
   "metadata": {},
   "outputs": [],
   "source": []
  }
 ],
 "metadata": {
  "kernelspec": {
   "display_name": "Python 3",
   "language": "python",
   "name": "python3"
  },
  "language_info": {
   "codemirror_mode": {
    "name": "ipython",
    "version": 3
   },
   "file_extension": ".py",
   "mimetype": "text/x-python",
   "name": "python",
   "nbconvert_exporter": "python",
   "pygments_lexer": "ipython3",
   "version": "3.8.5"
  }
 },
 "nbformat": 4,
 "nbformat_minor": 4
}
